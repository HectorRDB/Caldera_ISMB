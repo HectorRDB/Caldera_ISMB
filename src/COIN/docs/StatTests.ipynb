{
 "cells": [
  {
   "cell_type": "markdown",
   "metadata": {},
   "source": [
    "# Checking statistical test\n",
    "\n",
    "We want to check several things:\n",
    "- the CHM implementation\n",
    "- the minimal p-value computation\n",
    "- the envelop computation\n",
    "\n",
    "For this, we can use simple settings where we know the truth without needing the computational tricks, i.e where we can brute force compute all possible p-values.\n",
    "\n",
    "## Setting"
   ]
  },
  {
   "cell_type": "code",
   "execution_count": 1,
   "metadata": {},
   "outputs": [],
   "source": [
    "from importlib import reload\n",
    "import sys\n",
    "import os\n",
    "sys.path.append(os.path.abspath(\"/Users/hector/Documents/BGWAS2/COIN/Scripts\"))\n",
    "import numpy as np\n",
    "import random"
   ]
  },
  {
   "cell_type": "code",
   "execution_count": 2,
   "metadata": {},
   "outputs": [
    {
     "data": {
      "text/plain": [
       "<module 'Envelope' from '/Users/hector/Documents/BGWAS2/COIN/Scripts/Envelope.py'>"
      ]
     },
     "execution_count": 2,
     "metadata": {},
     "output_type": "execute_result"
    }
   ],
   "source": [
    "import Envelope\n",
    "reload(Envelope)"
   ]
  },
  {
   "cell_type": "markdown",
   "metadata": {},
   "source": [
    "## CMH test"
   ]
  },
  {
   "cell_type": "code",
   "execution_count": 3,
   "metadata": {},
   "outputs": [],
   "source": [
    "from statsmodels.stats.contingency_tables import StratifiedTable\n",
    "n = 15\n",
    "K = 2\n",
    "pheno = np.random.choice([0, 1], size=(n), p = [.7, .3])\n",
    "pattern = np.random.choice([0, 1], size=(n), p = [.4, .6])\n",
    "pop = np.random.choice(np.arange(K), size=(n), p = np.ones(K) / K)"
   ]
  },
  {
   "cell_type": "markdown",
   "metadata": {},
   "source": [
    "We first compute the actual p-value"
   ]
  },
  {
   "cell_type": "code",
   "execution_count": 4,
   "metadata": {},
   "outputs": [],
   "source": [
    "tables = np.zeros((2, 2, K))\n",
    "for k in range(K):\n",
    "    phenoPop = pheno[np.where(pop == k)]\n",
    "    patternPop = pattern[np.where(pop == k)]\n",
    "    tables[0, 0, k] = len(np.where(phenoPop[np.where(patternPop == 1)] == 1)[0])\n",
    "    tables[0, 1, k] = len(np.where(phenoPop[np.where(patternPop == 0)] == 1)[0])\n",
    "    tables[1, 0, k] = len(np.where(phenoPop[np.where(patternPop == 1)] == 0)[0])\n",
    "    tables[1, 1, k] = len(np.where(phenoPop[np.where(patternPop == 0)] == 0)[0])"
   ]
  },
  {
   "cell_type": "code",
   "execution_count": 5,
   "metadata": {},
   "outputs": [],
   "source": [
    "pvalue = StratifiedTable(tables).test_null_odds().pvalue"
   ]
  },
  {
   "cell_type": "markdown",
   "metadata": {},
   "source": [
    "We then compute the p-value from our method"
   ]
  },
  {
   "cell_type": "code",
   "execution_count": 6,
   "metadata": {},
   "outputs": [],
   "source": [
    "a = tables[0, 0, :]\n",
    "xs = np.sum(tables, axis = 0)[0, :]\n",
    "n1s = np.sum(tables, axis = 1)[0, :]\n",
    "n2s = np.sum(tables, axis = 1)[1, :]\n",
    "pvalue2 = Envelope.chi2.sf(Envelope.Th(a.sum(), xs, n1s, n2s), 1)"
   ]
  },
  {
   "cell_type": "markdown",
   "metadata": {},
   "source": [
    "And finally, we can compare the twos"
   ]
  },
  {
   "cell_type": "code",
   "execution_count": 7,
   "metadata": {},
   "outputs": [],
   "source": [
    "assert((pvalue - pvalue2) / pvalue2 < 10**(-10))"
   ]
  },
  {
   "cell_type": "markdown",
   "metadata": {},
   "source": [
    "## Minimal p-value\n",
    "\n",
    "We will first do a brute force computation, and check whether the value we estimate is indeed the true minimal p-value."
   ]
  },
  {
   "cell_type": "code",
   "execution_count": 8,
   "metadata": {},
   "outputs": [],
   "source": [
    "minP = Envelope.chi2.sf(Envelope.minimal_p_value(xs, n1s, n2s), 1)"
   ]
  },
  {
   "cell_type": "code",
   "execution_count": 9,
   "metadata": {},
   "outputs": [],
   "source": [
    "a0s = range(int(max(0, xs[0] - n2s[0])),\n",
    "            int(min(xs[0], n1s[0])) + 1)\n",
    "a1s = range(int(max(0, xs[1] - n2s[1])),\n",
    "            int(min(xs[1], n1s[1])) + 1)\n",
    "minPbrute = 1\n",
    "tables2 = np.zeros((2, 2, K))\n",
    "for a0 in a0s:\n",
    "    for a1 in a1s:\n",
    "        tables2[0, 0, 0] = a0\n",
    "        tables2[1, 0, 0] = xs[0] - a0\n",
    "        tables2[0, 1, 0] = n1s[0] - a0\n",
    "        tables2[1, 1, 0] = n2s[0] + a0 - xs[0]\n",
    "        tables2[0, 0, 1] = a1\n",
    "        tables2[1, 0, 1] = xs[1] - a1\n",
    "        tables2[0, 1, 1] = n1s[1] - a1\n",
    "        tables2[1, 1, 1] = n2s[1] + a1 - xs[1]\n",
    "        pvalue = StratifiedTable(tables2).test_null_odds().pvalue\n",
    "        if pvalue < minPbrute:\n",
    "            minPbrute = pvalue"
   ]
  },
  {
   "cell_type": "code",
   "execution_count": 10,
   "metadata": {},
   "outputs": [],
   "source": [
    "assert(((minP - minPbrute) / minPbrute) < 10**(-10)) "
   ]
  },
  {
   "cell_type": "markdown",
   "metadata": {},
   "source": [
    "## Envelope\n",
    "\n",
    "Finally, we want to compute the envelope and make sure that it indeed fit the definition. "
   ]
  },
  {
   "cell_type": "code",
   "execution_count": 11,
   "metadata": {},
   "outputs": [],
   "source": [
    "n1s = np.array([4, 4])\n",
    "n2s = np.array([5, 5])\n",
    "Xs = np.array([6, 3])"
   ]
  },
  {
   "cell_type": "code",
   "execution_count": 12,
   "metadata": {},
   "outputs": [],
   "source": [
    "minP = Envelope.chi2.sf(Envelope.envelope(Xs, n1s, n2s), 1)"
   ]
  },
  {
   "cell_type": "code",
   "execution_count": 13,
   "metadata": {},
   "outputs": [
    {
     "name": "stderr",
     "output_type": "stream",
     "text": [
      "/usr/local/lib/python3.8/site-packages/statsmodels/stats/contingency_tables.py:1049: RuntimeWarning: invalid value encountered in double_scalars\n",
      "  statistic /= denom\n"
     ]
    }
   ],
   "source": [
    "ns = n1s + n2s\n",
    "x0s = range(Xs[0], ns[0] + 1)\n",
    "x1s = range(Xs[1], ns[1] + 1)\n",
    "minPbrute = 1\n",
    "for x0 in x0s:\n",
    "    for x1 in x1s:\n",
    "        xs = np.array([x0, x1])\n",
    "        a0s = range(int(max(0, xs[0] - n2s[0])),\n",
    "                    int(min(xs[0], n1s[0])) + 1)\n",
    "        a1s = range(int(max(0, xs[1] - n2s[1])),\n",
    "                    int(min(xs[1], n1s[1])) + 1) \n",
    "        tables2 = np.zeros((2, 2, K))\n",
    "        for a0 in a0s:\n",
    "            for a1 in a1s:\n",
    "                tables2[0, 0, 0] = a0\n",
    "                tables2[1, 0, 0] = xs[0] - a0\n",
    "                tables2[0, 1, 0] = n1s[0] - a0\n",
    "                tables2[1, 1, 0] = n2s[0] + a0 - xs[0]\n",
    "                tables2[0, 0, 1] = a1\n",
    "                tables2[1, 0, 1] = xs[1] - a1\n",
    "                tables2[0, 1, 1] = n1s[1] - a1\n",
    "                tables2[1, 1, 1] = n2s[1] + a1 - xs[1]\n",
    "                pvalue = StratifiedTable(tables2).test_null_odds().pvalue\n",
    "                if pvalue < minPbrute:\n",
    "                    minPbrute = pvalue"
   ]
  },
  {
   "cell_type": "code",
   "execution_count": 14,
   "metadata": {},
   "outputs": [],
   "source": [
    "assert(((minP - minPbrute) / minPbrute) < 10**(-10)) "
   ]
  },
  {
   "cell_type": "markdown",
   "metadata": {},
   "source": [
    "### Comparison with the old envelope"
   ]
  },
  {
   "cell_type": "code",
   "execution_count": 15,
   "metadata": {},
   "outputs": [],
   "source": [
    "n1s = np.array([4, 4])\n",
    "n2s = np.array([5, 5])\n",
    "xs = np.array([7, 6])\n",
    "Env = Envelope.envelope(xs, n1s, n2s)\n",
    "Old_Env = minP = Envelope.old_envelope(xs, n1s, n2s)\n",
    "assert(((Env - Old_Env) / Env) < 10**(-10))\n",
    "n1s = np.array([4, 4])\n",
    "n2s = np.array([5, 5])\n",
    "xs = np.array([7, 5])\n",
    "Env = Envelope.envelope(xs, n1s, n2s)\n",
    "Old_Env = minP = Envelope.old_envelope(xs, n1s, n2s)\n",
    "assert(((Env - Old_Env) / Env) < 10**(-10)) \n",
    "n1s = np.array([4, 4])\n",
    "n2s = np.array([5, 5])\n",
    "xs = np.array([7, 4])\n",
    "Env = Envelope.envelope(xs, n1s, n2s)\n",
    "Old_Env = minP = Envelope.old_envelope(xs, n1s, n2s)\n",
    "assert(Env > Old_Env)"
   ]
  },
  {
   "cell_type": "code",
   "execution_count": 16,
   "metadata": {},
   "outputs": [],
   "source": [
    "n1s = np.array([212, 10])\n",
    "n2s = np.array([194, 12])\n",
    "xs = np.array([218, 10])\n",
    "Env = Envelope.envelope(xs, n1s, n2s)\n",
    "Old_Env = minP = Envelope.old_envelope(xs, n1s, n2s)\n",
    "assert(Env >= Old_Env)"
   ]
  },
  {
   "cell_type": "code",
   "execution_count": null,
   "metadata": {},
   "outputs": [],
   "source": []
  }
 ],
 "metadata": {
  "kernelspec": {
   "display_name": "Python 3",
   "language": "python",
   "name": "python3"
  },
  "language_info": {
   "codemirror_mode": {
    "name": "ipython",
    "version": 3
   },
   "file_extension": ".py",
   "mimetype": "text/x-python",
   "name": "python",
   "nbconvert_exporter": "python",
   "pygments_lexer": "ipython3",
   "version": "3.8.2"
  }
 },
 "nbformat": 4,
 "nbformat_minor": 4
}
