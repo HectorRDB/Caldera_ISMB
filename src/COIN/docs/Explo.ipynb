{
 "cells": [
  {
   "cell_type": "markdown",
   "metadata": {},
   "source": [
    "# Testing the code\n",
    "\n",
    "This notebook is used to flesh out simple programming errors when writing code. It therefore focuses on the graph building part of the graph, and not on the testable part. Note that we assume in the code that the graph is connected, i.e that there is a path between any two nodes in the graph. The case of non-connected graphs is more complex but, fortunatly, it does not concern us.\n",
    "\n",
    "\n",
    "## Creating a toy dataset"
   ]
  },
  {
   "cell_type": "code",
   "execution_count": 1,
   "metadata": {},
   "outputs": [],
   "source": [
    "from importlib import reload\n",
    "import sys\n",
    "import os\n",
    "import numpy as np\n",
    "import pandas as pd\n",
    "import random\n",
    "sys.path.append(os.path.abspath(\"/Users/hector/Documents/BGWAS2/COIN/Scripts\"))\n",
    "from COIN import *\n",
    "import graphExplo\n",
    "reload(graphExplo)\n",
    "from graphExplo import *"
   ]
  },
  {
   "cell_type": "markdown",
   "metadata": {},
   "source": [
    "## Explore the graph\n",
    "### One node"
   ]
  },
  {
   "cell_type": "code",
   "execution_count": 2,
   "metadata": {},
   "outputs": [],
   "source": [
    "sys.path.append(os.path.abspath(\"/Users/hector/Documents/BGWAS2/COIN/Tests\"))\n",
    "import toyDataset\n",
    "Pop, neighbours, pattern, Pheno, edges = toyDataset.generateToyDataset()\n",
    "alpha = .05\n",
    "Lengths = np.ones(pattern.shape[0])\n",
    "G = structure(Pop, neighbours, pattern, Pheno, Lengths)\n",
    "n1s, n2s = G.ns()\n",
    "TH = chi2.isf(.05 / 1, 1)"
   ]
  },
  {
   "cell_type": "code",
   "execution_count": 3,
   "metadata": {},
   "outputs": [],
   "source": [
    "random.seed(24)\n",
    "n = int(n1s.sum() + n2s.sum())\n",
    "nNodes = G.pattern.shape[0]\n",
    "R = testables(alpha, nNodes, 10 ** 7)\n",
    "S = graph(n = n)\n",
    "explored = check_itemtable(0, G.pattern[0,:], R.itemtable)\n",
    "if explored:\n",
    "    next\n",
    "S.add_node(0, G.pattern[0,:], neighbours = G.neighbours[0], length = G.lengths[0])\n",
    "# Then we go on enumerating all pairs.\n",
    "# Note: a single node has no Vertex separator.\n",
    "R.enum(S, G, n1s, n2s, verbose = True, Lmax = 10)"
   ]
  },
  {
   "cell_type": "markdown",
   "metadata": {},
   "source": [
    "### All nodes"
   ]
  },
  {
   "cell_type": "code",
   "execution_count": 4,
   "metadata": {},
   "outputs": [
    {
     "name": "stderr",
     "output_type": "stream",
     "text": [
      "  3% |##                                                                      |\r"
     ]
    },
    {
     "name": "stdout",
     "output_type": "stream",
     "text": [
      "k = 1000\n"
     ]
    },
    {
     "name": "stderr",
     "output_type": "stream",
     "text": [
      "  9% |######                                                                  |\r"
     ]
    },
    {
     "name": "stdout",
     "output_type": "stream",
     "text": [
      "k = 2000\n"
     ]
    },
    {
     "name": "stderr",
     "output_type": "stream",
     "text": [
      " 15% |##########                                                              |\r"
     ]
    },
    {
     "name": "stdout",
     "output_type": "stream",
     "text": [
      "k = 3000\n"
     ]
    },
    {
     "name": "stderr",
     "output_type": "stream",
     "text": [
      " 25% |##################                                                      |\r"
     ]
    },
    {
     "name": "stdout",
     "output_type": "stream",
     "text": [
      "k = 4000\n"
     ]
    },
    {
     "name": "stderr",
     "output_type": "stream",
     "text": [
      " 37% |##########################                                              |\r"
     ]
    },
    {
     "name": "stdout",
     "output_type": "stream",
     "text": [
      "k = 5000\n"
     ]
    },
    {
     "name": "stderr",
     "output_type": "stream",
     "text": [
      " 55% |#######################################                                 |\r"
     ]
    },
    {
     "name": "stdout",
     "output_type": "stream",
     "text": [
      "k = 6000\n"
     ]
    },
    {
     "name": "stderr",
     "output_type": "stream",
     "text": [
      "100% |########################################################################|\n"
     ]
    }
   ],
   "source": [
    "pbar = ProgressBar()\n",
    "R = testables(alpha, nNodes, 10 ** 7)\n",
    "S = graph(n = n)\n",
    "for s in pbar(np.arange(np.shape(G.pattern)[0])):\n",
    "        if R.stop():\n",
    "            break\n",
    "        S = graph(n = n)\n",
    "        explored = check_itemtable(s, G.pattern[s,:], R.itemtable)\n",
    "        if explored:\n",
    "            next\n",
    "        S.add_node(s, G.pattern[s,:], neighbours = G.neighbours[s],\n",
    "                   length = G.lengths[s])\n",
    "        # Then we go on enumerating all pairs.\n",
    "        # Note: a single node has no Vertex separator.\n",
    "        R.enum(S, G, n1s, n2s, verbose = True, Lmax = 10)"
   ]
  },
  {
   "cell_type": "markdown",
   "metadata": {},
   "source": [
    "## Running an example where we know the truth"
   ]
  },
  {
   "cell_type": "code",
   "execution_count": 5,
   "metadata": {},
   "outputs": [
    {
     "name": "stderr",
     "output_type": "stream",
     "text": [
      "100% |########################################################################|\n"
     ]
    }
   ],
   "source": [
    "import Ground_truth as ground_truth\n",
    "alpha = 1\n",
    "Pop, neighbours, pattern, Pheno, edges = ground_truth.generateData1()\n",
    "Lengths = np.ones(pattern.shape[0])\n",
    "G = structure(Pop, neighbours, pattern, Pheno, Lengths)\n",
    "n1s, n2s = G.ns()\n",
    "n = int(n1s.sum() + n2s.sum())\n",
    "pbar = ProgressBar()\n",
    "nNodes = G.pattern.shape[0]\n",
    "R = testables(alpha, nNodes, 10 ** 7)\n",
    "S = graph(n = n)\n",
    "for s in pbar(np.arange(np.shape(G.pattern)[0])):\n",
    "        if R.stop():\n",
    "            break\n",
    "        S = graph(n = n)\n",
    "        explored = check_itemtable(s, G.pattern[s,:], R.itemtable)\n",
    "        if explored:\n",
    "            next\n",
    "        S.add_node(s, G.pattern[s,:], neighbours = G.neighbours[s],\n",
    "                   length = G.lengths[s])\n",
    "        # Then we go on enumerating all pairs.\n",
    "        # Note: a single node has no Vertex separator.\n",
    "        R.enum(S, G, n1s, n2s, verbose = True, Lmax = 500, prune = False)\n",
    "assert(R.subgraphs.shape[0] == 11)"
   ]
  },
  {
   "cell_type": "code",
   "execution_count": 6,
   "metadata": {},
   "outputs": [
    {
     "name": "stderr",
     "output_type": "stream",
     "text": [
      "100% |########################################################################|\n"
     ]
    }
   ],
   "source": [
    "Pop, neighbours, pattern, Pheno, edges = ground_truth.generateData2()\n",
    "Lengths = np.ones(pattern.shape[0])\n",
    "nNodes = G.pattern.shape[0]\n",
    "G = structure(Pop, neighbours, pattern, Pheno, Lengths)\n",
    "n1s, n2s = G.ns()\n",
    "n = int(n1s.sum() + n2s.sum())\n",
    "pbar = ProgressBar()\n",
    "R = testables(alpha, nNodes, 10 ** 7)\n",
    "S = graph(n = n)\n",
    "for s in pbar(np.arange(np.shape(G.pattern)[0])):\n",
    "        if R.stop():\n",
    "            break\n",
    "        S = graph(n = n)\n",
    "        explored = check_itemtable(s, G.pattern[s,:], R.itemtable)\n",
    "        if explored:\n",
    "            next\n",
    "        S.add_node(s, G.pattern[s,:], neighbours = G.neighbours[s],\n",
    "                   length = G.lengths[s])\n",
    "        # Then we go on enumerating all pairs.\n",
    "        # Note: a single node has no Vertex separator.\n",
    "        R.enum(S, G, n1s, n2s, verbose = True, Lmax = 500, prune = False)\n",
    "assert(R.subgraphs.shape[0] == 7)"
   ]
  },
  {
   "cell_type": "code",
   "execution_count": 7,
   "metadata": {},
   "outputs": [
    {
     "name": "stderr",
     "output_type": "stream",
     "text": [
      "100% |########################################################################|\n"
     ]
    }
   ],
   "source": [
    "Pop, neighbours, pattern, Pheno, edges = ground_truth.generateData3()\n",
    "Lengths = np.ones(pattern.shape[0])\n",
    "G = structure(Pop, neighbours, pattern, Pheno, Lengths)\n",
    "nNodes = G.pattern.shape[0]\n",
    "n1s, n2s = G.ns()\n",
    "n = int(n1s.sum() + n2s.sum())\n",
    "pbar = ProgressBar()\n",
    "R = testables(alpha, nNodes, 10 ** 7)\n",
    "S = graph(n = n)\n",
    "for s in pbar(np.arange(np.shape(G.pattern)[0])):\n",
    "        if R.stop():\n",
    "            break\n",
    "        S = graph(n = n)\n",
    "        explored = check_itemtable(s, G.pattern[s,:], R.itemtable)\n",
    "        if explored:\n",
    "            next\n",
    "        S.add_node(s, G.pattern[s,:], neighbours = G.neighbours[s],\n",
    "                   length = G.lengths[s])\n",
    "        # Then we go on enumerating all pairs.\n",
    "        # Note: a single node has no Vertex separator.\n",
    "        R.enum(S, G, n1s, n2s, verbose = True, Lmax = 500, prune = False)\n",
    "assert(R.subgraphs.shape[0] == 12)"
   ]
  },
  {
   "cell_type": "code",
   "execution_count": 8,
   "metadata": {},
   "outputs": [
    {
     "name": "stderr",
     "output_type": "stream",
     "text": [
      "100% |########################################################################|\n"
     ]
    }
   ],
   "source": [
    "Pop, neighbours, pattern, Pheno, edges = ground_truth.generateData4()\n",
    "alpha = 1\n",
    "Lengths = np.ones(pattern.shape[0])\n",
    "G = structure(Pop, neighbours, pattern, Pheno, Lengths)\n",
    "nNodes = G.pattern.shape[0]\n",
    "n1s, n2s = G.ns()\n",
    "n = int(n1s.sum() + n2s.sum())\n",
    "pbar = ProgressBar()\n",
    "R = testables(alpha, nNodes, 10 ** 7)\n",
    "S = graph(n = n)\n",
    "for s in pbar(np.arange(np.shape(G.pattern)[0])):\n",
    "        if R.stop():\n",
    "            break\n",
    "        S = graph(n = n)\n",
    "        explored = check_itemtable(s, G.pattern[s,:], R.itemtable)\n",
    "        if explored:\n",
    "            next\n",
    "        S.add_node(s, G.pattern[s,:], neighbours = G.neighbours[s],\n",
    "                   length = G.lengths[s])\n",
    "        # Then we go on enumerating all pairs.\n",
    "        # Note: a single node has no Vertex separator.\n",
    "        R.enum(S, G, n1s, n2s, verbose = True, Lmax = 500, prune = False)\n",
    "assert(R.subgraphs.shape[0] == 14)"
   ]
  },
  {
   "cell_type": "markdown",
   "metadata": {},
   "source": [
    "### Checking that we do find closed subgraphs"
   ]
  },
  {
   "cell_type": "code",
   "execution_count": 9,
   "metadata": {},
   "outputs": [
    {
     "name": "stderr",
     "output_type": "stream",
     "text": [
      "100% |########################################################################|\n"
     ]
    }
   ],
   "source": [
    "Pop, neighbours, pattern, Pheno, edges = toyDataset.generateToyDataset(n=2, N = 10)\n",
    "Lengths = np.ones(pattern.shape[0])\n",
    "Pop = np.zeros((4,), dtype = np.int)\n",
    "G = structure(Pop, neighbours, pattern, Pheno, Lengths)\n",
    "n1s, n2s = G.ns()\n",
    "n = int(n1s.sum() + n2s.sum())\n",
    "pbar = ProgressBar()\n",
    "nNodes = G.pattern.shape[0]\n",
    "R = testables(alpha, nNodes, 10 ** 7)\n",
    "S = graph(n = n)\n",
    "for s in pbar(np.arange(np.shape(G.pattern)[0])):\n",
    "        if R.stop():\n",
    "            break\n",
    "        S = graph(n = n)\n",
    "        explored = check_itemtable(s, G.pattern[s,:], R.itemtable)\n",
    "        if explored:\n",
    "            next\n",
    "        S.add_node(s, G.pattern[s,:], neighbours = G.neighbours[s],\n",
    "                   length = G.lengths[s])\n",
    "        # Then we go on enumerating all pairs.\n",
    "        # Note: a single node has no Vertex separator.\n",
    "        R.enum(S, G, n1s, n2s, verbose = True, Lmax = 500, prune = True)\n",
    "\n",
    "for S in R.subgraphs:\n",
    "    if not S == None:\n",
    "        for ne in S.neighbours:\n",
    "            in_closure = ((G.pattern[int(ne)] | S.ys) == S.ys)\n",
    "            in_closure = all(in_closure)\n",
    "            assert(not in_closure)"
   ]
  },
  {
   "cell_type": "code",
   "execution_count": 12,
   "metadata": {},
   "outputs": [
    {
     "name": "stderr",
     "output_type": "stream",
     "text": [
      "100% |########################################################################|\n"
     ]
    }
   ],
   "source": [
    "neighbours, neighbours, pattern, Pheno, edges = toyDataset.generateToyDataset(n = 2, N = 20)\n",
    "Lengths = np.ones(pattern.shape[0])\n",
    "Pop = np.zeros((4,), dtype = np.int)\n",
    "G = structure(Pop, neighbours, pattern, Pheno, Lengths)\n",
    "n1s, n2s = G.ns()\n",
    "n = int(n1s.sum() + n2s.sum())\n",
    "pbar = ProgressBar()\n",
    "nNodes = G.pattern.shape[0]\n",
    "R = testables(alpha, nNodes, 10 ** 7)\n",
    "S = graph(n = n)\n",
    "for s in pbar(np.arange(np.shape(G.pattern)[0])):\n",
    "        if R.stop():\n",
    "            break\n",
    "        S = graph(n = n)\n",
    "        explored = check_itemtable(s, G.pattern[s,:], R.itemtable)\n",
    "        if explored:\n",
    "            next\n",
    "        S.add_node(s, G.pattern[s,:], neighbours = G.neighbours[s],\n",
    "                   length = G.lengths[s])\n",
    "        # Then we go on enumerating all pairs.\n",
    "        # Note: a single node has no Vertex separator.\n",
    "        R.enum(S, G, n1s, n2s, verbose = True, Lmax = 500, prune = False)\n",
    "\n",
    "for S in R.subgraphs:\n",
    "    if not S == None:\n",
    "        for ne in S.neighbours:\n",
    "            in_closure = ((G.pattern[int(ne)] | S.ys) == S.ys)\n",
    "            in_closure = all(in_closure)\n",
    "            assert(not in_closure)"
   ]
  },
  {
   "cell_type": "code",
   "execution_count": null,
   "metadata": {},
   "outputs": [],
   "source": []
  }
 ],
 "metadata": {
  "kernelspec": {
   "display_name": "Python 3",
   "language": "python",
   "name": "python3"
  },
  "language_info": {
   "codemirror_mode": {
    "name": "ipython",
    "version": 3
   },
   "file_extension": ".py",
   "mimetype": "text/x-python",
   "name": "python",
   "nbconvert_exporter": "python",
   "pygments_lexer": "ipython3",
   "version": "3.8.2"
  }
 },
 "nbformat": 4,
 "nbformat_minor": 4
}
