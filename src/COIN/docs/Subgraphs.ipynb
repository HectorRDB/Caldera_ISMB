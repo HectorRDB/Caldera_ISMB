{
 "cells": [
  {
   "cell_type": "markdown",
   "metadata": {},
   "source": [
    "# Testing the code\n",
    "\n",
    "This notebook is used to flesh out simple programming errors when writing code. It therefore focuses on the graph building part of the graph, and not on the testable part. Note that we assume in the code that the graph is connected, i.e that there is a path between any two nodes in the graph. The case of non-connected graphs is more complex but, fortunatly, it does not concern us.\n",
    "\n",
    "\n",
    "## Creating a toy dataset"
   ]
  },
  {
   "cell_type": "code",
   "execution_count": 1,
   "metadata": {},
   "outputs": [],
   "source": [
    "from importlib import reload\n",
    "import sys\n",
    "import os\n",
    "import numpy as np\n",
    "import pandas as pd\n",
    "import random\n",
    "sys.path.append(os.path.abspath(\"/Users/hector/Documents/BGWAS2/COIN/Scripts\"))\n",
    "from COIN import *\n",
    "import graphExplo\n",
    "reload(graphExplo)\n",
    "from graphExplo import *"
   ]
  },
  {
   "cell_type": "code",
   "execution_count": 2,
   "metadata": {},
   "outputs": [],
   "source": [
    "sys.path.append(os.path.abspath(\"/Users/hector/Documents/BGWAS2/COIN/Scripts\"))\n",
    "import toyDataset\n",
    "Pop, neighbours, pattern, Pheno, edges = toyDataset.generateToyDataset()\n",
    "alpha = .05\n",
    "Lengths = np.ones(pattern.shape[0])\n",
    "G = structure(Pop, neighbours, pattern, Pheno, Lengths)\n",
    "n1s, n2s = G.ns()\n",
    "TH = chi2.isf(.05 / 1, 1)"
   ]
  },
  {
   "cell_type": "markdown",
   "metadata": {},
   "source": [
    "## Test the functions\n",
    "### Exploring from one node"
   ]
  },
  {
   "cell_type": "code",
   "execution_count": 3,
   "metadata": {},
   "outputs": [],
   "source": [
    "random.seed(24)\n",
    "n = int(n1s.sum() + n2s.sum())\n",
    "nNodes = G.pattern.shape[0]\n",
    "R = testables(alpha, nNodes, 10 ** 7)\n",
    "S = graph(n = n)\n",
    "explored = check_itemtable(0, G.pattern[0,:], R.itemtable)\n",
    "if explored:\n",
    "    next\n",
    "S.add_node(0, G.pattern[0,:], neighbours = G.neighbours[0], length = G.lengths[0])\n",
    "# Then we go on enumerating all pairs.\n",
    "# Note: a single node has no Vertex separator.\n",
    "R.enum(S, G, n1s, n2s, verbose = True, Lmax = 500)"
   ]
  },
  {
   "cell_type": "markdown",
   "metadata": {},
   "source": [
    "### Testing itemtable"
   ]
  },
  {
   "cell_type": "code",
   "execution_count": 4,
   "metadata": {},
   "outputs": [],
   "source": [
    "explored = check_itemtable(0, G.pattern[0,:], R.itemtable)\n",
    "assert(explored)\n",
    "explored = check_itemtable(R.subgraphs[2].squareNodes[0].label,\n",
    "                           G.pattern[int(R.subgraphs[2].squareNodes[0].label),:],\n",
    "                           R.itemtable)\n",
    "assert(explored)\n",
    "explored = check_itemtable(0, G.pattern[0,:], R.itemtable)\n",
    "assert(explored)\n",
    "explored = check_itemtable(R.subgraphs[2].squareNodes[431].label,\n",
    "                           R.subgraphs[2].ys,\n",
    "                           R.itemtable)\n",
    "assert(explored)"
   ]
  },
  {
   "cell_type": "markdown",
   "metadata": {},
   "source": [
    "### Checking the pruning"
   ]
  },
  {
   "cell_type": "code",
   "execution_count": 5,
   "metadata": {},
   "outputs": [],
   "source": [
    "node = 123\n",
    "R = testables(alpha, nNodes, 10 ** 7)\n",
    "G.pattern[node] = np.ones(G.pattern[node].shape)\n",
    "S = graph(n = n)\n",
    "explored = check_itemtable(node, G.pattern[node,:], R.itemtable)\n",
    "if explored:\n",
    "    next\n",
    "S.add_node(node, G.pattern[node,:], neighbours = G.neighbours[node], length = G.lengths[node])\n",
    "# Then we go on enumerating all pairs.\n",
    "# Note: a single node has no Vertex separator.\n",
    "R.enum(S, G, n1s, n2s, verbose = True, Lmax = 500)\n",
    "assert(all(R.subgraphs == None))"
   ]
  },
  {
   "cell_type": "code",
   "execution_count": 6,
   "metadata": {},
   "outputs": [],
   "source": [
    "R = testables(alpha, nNodes, 10 ** 7)\n",
    "S = graph(n = n)\n",
    "explored = check_itemtable(0, G.pattern[0,:], R.itemtable)\n",
    "if explored:\n",
    "    next\n",
    "S.add_node(0, G.pattern[0,:], neighbours = G.neighbours[0], length = G.lengths[0])\n",
    "# Then we go on enumerating all pairs.\n",
    "# Note: a single node has no Vertex separator.\n",
    "R.enum(S, G, n1s, n2s, verbose = True, Lmax = 500)\n",
    "S = R.subgraphs[0]\n",
    "S.Env\n",
    "S.prunable\n",
    "S.frequencies(G.Pop)\n",
    "assert(S.Env == envelope(S.frequencies(G.Pop), n1s, n2s))"
   ]
  }
 ],
 "metadata": {
  "kernelspec": {
   "display_name": "Python 3",
   "language": "python",
   "name": "python3"
  },
  "language_info": {
   "codemirror_mode": {
    "name": "ipython",
    "version": 3
   },
   "file_extension": ".py",
   "mimetype": "text/x-python",
   "name": "python",
   "nbconvert_exporter": "python",
   "pygments_lexer": "ipython3",
   "version": "3.8.2"
  }
 },
 "nbformat": 4,
 "nbformat_minor": 4
}
