{
 "cells": [
  {
   "cell_type": "markdown",
   "metadata": {},
   "source": [
    "# Testing the code\n",
    "\n",
    "This notebook is used to flesh out simple programming errors when writing code. It therefore focuses on the graph building part of the graph, and not on the testable part. Note that we assume in the code that the graph is connected, i.e that there is a path between any two nodes in the graph. The case of non-connected graphs is more complex but, fortunatly, it does not concern us.\n",
    "\n",
    "\n",
    "# Creating a toy dataset"
   ]
  },
  {
   "cell_type": "code",
   "execution_count": 1,
   "metadata": {},
   "outputs": [],
   "source": [
    "import sys, os, random\n",
    "import numpy as np\n",
    "import pandas as pd\n",
    "from caldera.Exploration._Subgraphs import *\n",
    "from caldera.Exploration._ExploreDFS import *"
   ]
  },
  {
   "cell_type": "code",
   "execution_count": 2,
   "metadata": {},
   "outputs": [],
   "source": [
    "import caldera.data._toyData as toyDataset\n",
    "Pop, neighbours, pattern, Pheno, edges = toyDataset.generateToyDataset()\n",
    "alpha = 10 ** -5\n",
    "Lengths = np.ones(pattern.shape[0])\n",
    "G = structure(Pop, neighbours, pattern, Pheno, Lengths)\n",
    "n1s, n2s = G.ns()\n",
    "TH = chi2.isf(alpha / 1, 1)\n",
    "nNodes = G.lengths.shape[0]"
   ]
  },
  {
   "cell_type": "markdown",
   "metadata": {},
   "source": [
    "## Helper functions\n",
    "### Start"
   ]
  },
  {
   "cell_type": "code",
   "execution_count": 3,
   "metadata": {},
   "outputs": [],
   "source": [
    "random.seed(209)\n",
    "nodes = random.sample(range(nNodes), 20)\n",
    "nodes = [node for node in nodes if len(G.neighbours[node]) > 0]\n",
    "C = [create_Graph(node, G.Pop, G.pattern, G.neighbours, G.lengths, TH, n1s, n2s) for node in nodes]\n",
    "assert(len(C) == len(nodes))\n",
    "C = np.array([S for S in C if S.Env >= TH or not S.prunable], dtype = graph)\n",
    "assert(C.shape[0] <= len(nodes))"
   ]
  },
  {
   "cell_type": "markdown",
   "metadata": {},
   "source": [
    "### Childrens"
   ]
  },
  {
   "cell_type": "code",
   "execution_count": 4,
   "metadata": {},
   "outputs": [],
   "source": [
    "for i in range(C.shape[0]):\n",
    "    S = C[i]\n",
    "    childrens = S.Childrens(G.Pop, G.pattern, G.neighbours, G.lengths, TH, n1s, n1s)\n",
    "    for child in childrens:\n",
    "        assert(child.Env >= TH)"
   ]
  },
  {
   "cell_type": "markdown",
   "metadata": {},
   "source": [
    "## Exploring\n",
    "\n",
    "(Note that adding a Lmax forces the exploration to be kind of BFS)"
   ]
  },
  {
   "cell_type": "code",
   "execution_count": 5,
   "metadata": {},
   "outputs": [
    {
     "output_type": "stream",
     "name": "stdout",
     "text": [
      "Done\n"
     ]
    }
   ],
   "source": [
    "S = graph()\n",
    "S.new_graph(0, G.Pop, G.pattern, G.neighbours, G.lengths, TH, n1s, n2s)\n",
    "sols = solutions(.05, nNodes, Lmax = 10, kmax = 1000) \n",
    "sols.enum(S, G, True, n1s, n2s)\n",
    "print(\"Done\")"
   ]
  },
  {
   "cell_type": "markdown",
   "metadata": {},
   "source": [
    "## Check"
   ]
  },
  {
   "cell_type": "code",
   "execution_count": 6,
   "metadata": {},
   "outputs": [
    {
     "output_type": "stream",
     "name": "stdout",
     "text": [
      "Done\n"
     ]
    }
   ],
   "source": [
    "S = graph()\n",
    "S.new_graph(2, G.Pop, G.pattern, G.neighbours, G.lengths, TH, n1s, n2s)\n",
    "sols = solutions(.05, nNodes, Lmax = 500, kmax = 1000) \n",
    "sols.enum(S, G, True, n1s, n2s)\n",
    "print(\"Done\")"
   ]
  },
  {
   "cell_type": "code",
   "execution_count": 7,
   "metadata": {},
   "outputs": [
    {
     "output_type": "stream",
     "name": "stdout",
     "text": [
      "k = 1000\n",
      "k = 2000\n",
      "k = 3000\n",
      "k = 4000\n",
      "k = 5000\n",
      "k = 6000\n"
     ]
    }
   ],
   "source": [
    "sols = solutions(0.05, nNodes, Lmax = 500, kmax = 100000)\n",
    "candidates = start(range(nNodes), G.Pop, G.pattern, G.neighbours, G.lengths,\n",
    "                   sols.TH, n1s, n2s)\n",
    "for S in candidates:\n",
    "    sols.enum(S, G, True, n1s, n2s)"
   ]
  },
  {
   "cell_type": "code",
   "execution_count": null,
   "metadata": {},
   "outputs": [],
   "source": []
  }
 ],
 "metadata": {
  "kernelspec": {
   "display_name": "Python 3",
   "language": "python",
   "name": "python3"
  },
  "language_info": {
   "codemirror_mode": {
    "name": "ipython",
    "version": 3
   },
   "file_extension": ".py",
   "mimetype": "text/x-python",
   "name": "python",
   "nbconvert_exporter": "python",
   "pygments_lexer": "ipython3",
   "version": "3.8.2-final"
  }
 },
 "nbformat": 4,
 "nbformat_minor": 4
}